{
 "cells": [
  {
   "cell_type": "code",
   "execution_count": 2,
   "id": "1c9b8b26",
   "metadata": {},
   "outputs": [
    {
     "name": "stderr",
     "output_type": "stream",
     "text": [
      "/home/ali/.local/lib/python3.10/site-packages/matplotlib/projections/__init__.py:63: UserWarning: Unable to import Axes3D. This may be due to multiple versions of Matplotlib being installed (e.g. as a system package and as a pip package). As a result, the 3D projection is not available.\n",
      "  warnings.warn(\"Unable to import Axes3D. This may be due to multiple versions of \"\n"
     ]
    }
   ],
   "source": [
    "import numpy as np\n",
    "import pandas as pd\n",
    "\n",
    "pd.set_option('display.float_format', '{:.10f}'.format)\n",
    "\n",
    "import matplotlib.pyplot as plt\n",
    "import seaborn as sns\n",
    "\n",
    "from sklearn.model_selection import train_test_split\n",
    "from sklearn.preprocessing import StandardScaler\n",
    "from sklearn.neighbors import KNeighborsClassifier\n",
    "from sklearn.metrics import classification_report, accuracy_score\n",
    "\n",
    "%matplotlib inline"
   ]
  },
  {
   "cell_type": "code",
   "execution_count": 5,
   "id": "55f6f0a7",
   "metadata": {},
   "outputs": [],
   "source": [
    "df_ml =  pd.read_csv('../Data/Processed Data.csv')"
   ]
  },
  {
   "cell_type": "code",
   "execution_count": 6,
   "id": "c50ea987",
   "metadata": {},
   "outputs": [],
   "source": [
    "X = df_ml.drop(['rowid', 'koi_disposition'], axis=1)\n",
    "y = df_ml['koi_disposition']\n",
    "X_train, X_test, y_train, y_test = train_test_split(\n",
    "    X, y, test_size=0.25, random_state=42, stratify=y\n",
    ")\n"
   ]
  },
  {
   "cell_type": "code",
   "execution_count": 7,
   "id": "80e4d840",
   "metadata": {},
   "outputs": [],
   "source": [
    "# StandardScaler kullanarak ölçeklendirme\n",
    "scaler = StandardScaler()\n",
    "\n",
    "# Eğitme verisi üzerinde hem fit (öğren) hem de transform (uygula) yap\n",
    "X_train_scaled = scaler.fit_transform(X_train)\n",
    "\n",
    "# Test verisi üzerinde sadece transform yap (eğitim verisinden öğrenilen değerleri kullan)\n",
    "X_test_scaled = scaler.transform(X_test)"
   ]
  },
  {
   "cell_type": "code",
   "execution_count": 8,
   "id": "7f0044ce",
   "metadata": {},
   "outputs": [],
   "source": [
    "# 1. Model nesnesini oluştur (k=7 seçildi)\n",
    "k = 7\n",
    "knn_model = KNeighborsClassifier(n_neighbors=k)\n",
    "\n",
    "# 2. Modeli eğitim verileriyle eğit\n",
    "knn_model.fit(X_train_scaled, y_train)\n",
    "\n",
    "# 3. Test seti üzerinde tahmin yap\n",
    "y_pred = knn_model.predict(X_test_scaled)"
   ]
  },
  {
   "cell_type": "code",
   "execution_count": 9,
   "id": "46fd8851",
   "metadata": {},
   "outputs": [
    {
     "data": {
      "text/plain": [
       "array(['CONFIRMED', 'FALSE POSITIVE', 'CONFIRMED', ..., 'CONFIRMED',\n",
       "       'FALSE POSITIVE', 'CONFIRMED'], shape=(2391,), dtype=object)"
      ]
     },
     "execution_count": 9,
     "metadata": {},
     "output_type": "execute_result"
    }
   ],
   "source": [
    "y_pred"
   ]
  },
  {
   "cell_type": "code",
   "execution_count": 10,
   "id": "ad70c005",
   "metadata": {},
   "outputs": [
    {
     "name": "stdout",
     "output_type": "stream",
     "text": [
      "Seçilen Komşu Sayısı (k): 7\n",
      "Test Veri Seti Doğruluğu: 0.8394\n",
      "\n",
      "Sınıflandırma Raporu:\n",
      "                precision    recall  f1-score   support\n",
      "\n",
      "     CANDIDATE       0.67      0.52      0.58       495\n",
      "     CONFIRMED       0.82      0.93      0.87       686\n",
      "FALSE POSITIVE       0.91      0.92      0.91      1210\n",
      "\n",
      "      accuracy                           0.84      2391\n",
      "     macro avg       0.80      0.79      0.79      2391\n",
      "  weighted avg       0.83      0.84      0.83      2391\n",
      "\n"
     ]
    }
   ],
   "source": [
    "# Doğruluk Puanını hesapla\n",
    "accuracy = accuracy_score(y_test, y_pred)\n",
    "\n",
    "print(f\"Seçilen Komşu Sayısı (k): {k}\")\n",
    "print(f\"Test Veri Seti Doğruluğu: {accuracy:.4f}\")\n",
    "\n",
    "print(\"\\nSınıflandırma Raporu:\")\n",
    "print(classification_report(y_test, y_pred))"
   ]
  },
  {
   "cell_type": "code",
   "execution_count": 12,
   "id": "172dc550",
   "metadata": {},
   "outputs": [
    {
     "name": "stdout",
     "output_type": "stream",
     "text": [
      "Model başarıyla '../Trained Models/KNN_model_final.joblib' dosyasına kaydedildi.\n",
      "Dosya boyutu: 4.98 MB\n"
     ]
    }
   ],
   "source": [
    "import joblib\n",
    "import os # Kaydedilecek dizini kontrol etmek için\n",
    "\n",
    "# Varsayım: clf, eğitilmiş XGBClassifier modeliniz.\n",
    "model_output_filename = '../Trained Models/KNN_model_final.joblib'\n",
    "\n",
    "# Modeli kaydetme (Serileştirme)\n",
    "try:\n",
    "    joblib.dump(knn_model, model_output_filename)\n",
    "    \n",
    "    print(f\"Model başarıyla '{model_output_filename}' dosyasına kaydedildi.\")\n",
    "    print(f\"Dosya boyutu: {os.path.getsize(model_output_filename) / (1024*1024):.2f} MB\")\n",
    "\n",
    "except Exception as e:\n",
    "    print(f\"Hata oluştu: {e}\")"
   ]
  },
  {
   "cell_type": "code",
   "execution_count": null,
   "id": "64de8fd5",
   "metadata": {},
   "outputs": [],
   "source": []
  }
 ],
 "metadata": {
  "kernelspec": {
   "display_name": "Python 3",
   "language": "python",
   "name": "python3"
  },
  "language_info": {
   "codemirror_mode": {
    "name": "ipython",
    "version": 3
   },
   "file_extension": ".py",
   "mimetype": "text/x-python",
   "name": "python",
   "nbconvert_exporter": "python",
   "pygments_lexer": "ipython3",
   "version": "3.10.12"
  }
 },
 "nbformat": 4,
 "nbformat_minor": 5
}
