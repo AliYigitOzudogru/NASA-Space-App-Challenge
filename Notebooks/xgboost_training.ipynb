{
 "cells": [
  {
   "cell_type": "code",
   "execution_count": 1,
   "id": "151c884f",
   "metadata": {},
   "outputs": [],
   "source": [
    "from sklearn.model_selection import train_test_split\n",
    "from sklearn.preprocessing import LabelEncoder\n",
    "from sklearn.metrics import classification_report, confusion_matrix, accuracy_score\n",
    "\n",
    "import xgboost as xgb\n",
    "import pandas as pd"
   ]
  },
  {
   "cell_type": "code",
   "execution_count": 2,
   "id": "16d76c65",
   "metadata": {},
   "outputs": [
    {
     "name": "stdout",
     "output_type": "stream",
     "text": [
      "<class 'pandas.core.frame.DataFrame'>\n",
      "RangeIndex: 9564 entries, 0 to 9563\n",
      "Data columns (total 92 columns):\n",
      " #   Column              Non-Null Count  Dtype  \n",
      "---  ------              --------------  -----  \n",
      " 0   rowid               9564 non-null   int64  \n",
      " 1   koi_disposition     9564 non-null   object \n",
      " 2   koi_score           9564 non-null   float64\n",
      " 3   koi_fpflag_nt       9564 non-null   int64  \n",
      " 4   koi_fpflag_ss       9564 non-null   int64  \n",
      " 5   koi_fpflag_co       9564 non-null   int64  \n",
      " 6   koi_fpflag_ec       9564 non-null   int64  \n",
      " 7   koi_period          9564 non-null   float64\n",
      " 8   koi_time0bk         9564 non-null   float64\n",
      " 9   koi_time0           9564 non-null   float64\n",
      " 10  koi_impact          9564 non-null   float64\n",
      " 11  koi_impact_err1     9564 non-null   float64\n",
      " 12  koi_impact_err2     9564 non-null   float64\n",
      " 13  koi_duration        9564 non-null   float64\n",
      " 14  koi_duration_err1   9564 non-null   float64\n",
      " 15  koi_duration_err2   9564 non-null   float64\n",
      " 16  koi_depth           9564 non-null   float64\n",
      " 17  koi_depth_err1      9564 non-null   float64\n",
      " 18  koi_depth_err2      9564 non-null   float64\n",
      " 19  koi_ror             9564 non-null   float64\n",
      " 20  koi_ror_err1        9564 non-null   float64\n",
      " 21  koi_ror_err2        9564 non-null   float64\n",
      " 22  koi_srho            9564 non-null   float64\n",
      " 23  koi_srho_err1       9564 non-null   float64\n",
      " 24  koi_srho_err2       9564 non-null   float64\n",
      " 25  koi_prad            9564 non-null   float64\n",
      " 26  koi_prad_err1       9564 non-null   float64\n",
      " 27  koi_prad_err2       9564 non-null   float64\n",
      " 28  koi_sma             9564 non-null   float64\n",
      " 29  koi_incl            9564 non-null   float64\n",
      " 30  koi_teq             9564 non-null   float64\n",
      " 31  koi_insol           9564 non-null   float64\n",
      " 32  koi_insol_err1      9564 non-null   float64\n",
      " 33  koi_insol_err2      9564 non-null   float64\n",
      " 34  koi_dor             9564 non-null   float64\n",
      " 35  koi_dor_err1        9564 non-null   float64\n",
      " 36  koi_dor_err2        9564 non-null   float64\n",
      " 37  koi_ldm_coeff4      9564 non-null   float64\n",
      " 38  koi_ldm_coeff3      9564 non-null   float64\n",
      " 39  koi_ldm_coeff2      9564 non-null   float64\n",
      " 40  koi_ldm_coeff1      9564 non-null   float64\n",
      " 41  koi_max_sngle_ev    9564 non-null   float64\n",
      " 42  koi_max_mult_ev     9564 non-null   float64\n",
      " 43  koi_model_snr       9564 non-null   float64\n",
      " 44  koi_count           9564 non-null   int64  \n",
      " 45  koi_num_transits    9564 non-null   float64\n",
      " 46  koi_bin_oedp_sig    9564 non-null   float64\n",
      " 47  koi_steff           9564 non-null   float64\n",
      " 48  koi_steff_err1      9564 non-null   float64\n",
      " 49  koi_steff_err2      9564 non-null   float64\n",
      " 50  koi_slogg           9564 non-null   float64\n",
      " 51  koi_slogg_err1      9564 non-null   float64\n",
      " 52  koi_slogg_err2      9564 non-null   float64\n",
      " 53  koi_smet_err1       9564 non-null   float64\n",
      " 54  koi_smet_err2       9564 non-null   float64\n",
      " 55  koi_srad            9564 non-null   float64\n",
      " 56  koi_srad_err1       9564 non-null   float64\n",
      " 57  koi_srad_err2       9564 non-null   float64\n",
      " 58  koi_smass           9564 non-null   float64\n",
      " 59  koi_smass_err1      9564 non-null   float64\n",
      " 60  koi_smass_err2      9564 non-null   float64\n",
      " 61  ra                  9564 non-null   float64\n",
      " 62  dec                 9564 non-null   float64\n",
      " 63  koi_fwm_stat_sig    9564 non-null   float64\n",
      " 64  koi_fwm_sra         9564 non-null   float64\n",
      " 65  koi_fwm_sra_err     9564 non-null   float64\n",
      " 66  koi_fwm_sdec        9564 non-null   float64\n",
      " 67  koi_fwm_sdec_err    9564 non-null   float64\n",
      " 68  koi_fwm_srao        9564 non-null   float64\n",
      " 69  koi_fwm_srao_err    9564 non-null   float64\n",
      " 70  koi_fwm_sdeco       9564 non-null   float64\n",
      " 71  koi_fwm_sdeco_err   9564 non-null   float64\n",
      " 72  koi_fwm_prao        9564 non-null   float64\n",
      " 73  koi_fwm_prao_err    9564 non-null   float64\n",
      " 74  koi_fwm_pdeco       9564 non-null   float64\n",
      " 75  koi_fwm_pdeco_err   9564 non-null   float64\n",
      " 76  koi_dicco_mra       9564 non-null   float64\n",
      " 77  koi_dicco_mra_err   9564 non-null   float64\n",
      " 78  koi_dicco_mdec      9564 non-null   float64\n",
      " 79  koi_dicco_mdec_err  9564 non-null   float64\n",
      " 80  koi_dicco_msky      9564 non-null   float64\n",
      " 81  koi_dicco_msky_err  9564 non-null   float64\n",
      " 82  koi_dikco_mra       9564 non-null   float64\n",
      " 83  koi_dikco_mra_err   9564 non-null   float64\n",
      " 84  koi_dikco_mdec      9564 non-null   float64\n",
      " 85  koi_dikco_mdec_err  9564 non-null   float64\n",
      " 86  koi_dikco_msky      9564 non-null   float64\n",
      " 87  koi_dikco_msky_err  9564 non-null   float64\n",
      " 88  LS                  9564 non-null   bool   \n",
      " 89  LS+MCMC             9564 non-null   bool   \n",
      " 90  MCMC                9564 non-null   bool   \n",
      " 91  none                9564 non-null   bool   \n",
      "dtypes: bool(4), float64(81), int64(6), object(1)\n",
      "memory usage: 6.5+ MB\n"
     ]
    }
   ],
   "source": [
    "label_encoder = LabelEncoder()\n",
    "\n",
    "df = pd.read_csv('Processed Data.csv')\n",
    "\n",
    "df.info()"
   ]
  },
  {
   "cell_type": "code",
   "execution_count": 3,
   "id": "48f33475",
   "metadata": {},
   "outputs": [
    {
     "name": "stdout",
     "output_type": "stream",
     "text": [
      "Original classes: ['CONFIRMED' 'CANDIDATE' 'FALSE POSITIVE']\n",
      "Encoded classes: [1 0 2]\n",
      "Mapping: {'CANDIDATE': np.int64(0), 'CONFIRMED': np.int64(1), 'FALSE POSITIVE': np.int64(2)}\n"
     ]
    }
   ],
   "source": [
    "df['koi_disposition_encoded'] = label_encoder.fit_transform(df['koi_disposition'])\n",
    "\n",
    "print(\"Original classes:\", df['koi_disposition'].unique())\n",
    "print(\"Encoded classes:\", df['koi_disposition_encoded'].unique())\n",
    "print(\"Mapping:\", dict(zip(label_encoder.classes_, label_encoder.transform(label_encoder.classes_))))"
   ]
  },
  {
   "cell_type": "code",
   "execution_count": null,
   "id": "106ca938",
   "metadata": {},
   "outputs": [
    {
     "ename": "XGBoostError",
     "evalue": "[22:57:09] /workspace/src/common/common.cu:16: /workspace/src/common/cuda_dr_utils.cc: 30: cudaErrorUnknown: unknown error\nStack trace:\n  [bt] (0) /home/ali/.local/lib/python3.10/site-packages/xgboost/lib/libxgboost.so(+0x2a6e7c) [0x7fb0196a6e7c]\n  [bt] (1) /home/ali/.local/lib/python3.10/site-packages/xgboost/lib/libxgboost.so(+0xa5b61e) [0x7fb019e5b61e]\n  [bt] (2) /home/ali/.local/lib/python3.10/site-packages/xgboost/lib/libxgboost.so(+0x38303b) [0x7fb01978303b]\n  [bt] (3) /home/ali/.local/lib/python3.10/site-packages/xgboost/lib/libxgboost.so(+0x3840ac) [0x7fb0197840ac]\n  [bt] (4) /lib/x86_64-linux-gnu/libc.so.6(+0x99ee8) [0x7fb0b8a99ee8]\n  [bt] (5) /home/ali/.local/lib/python3.10/site-packages/xgboost/lib/libxgboost.so(+0x382f68) [0x7fb019782f68]\n  [bt] (6) /home/ali/.local/lib/python3.10/site-packages/xgboost/lib/libxgboost.so(+0xa5cb55) [0x7fb019e5cb55]\n  [bt] (7) /home/ali/.local/lib/python3.10/site-packages/xgboost/lib/libxgboost.so(+0xa5bacd) [0x7fb019e5bacd]\n  [bt] (8) /home/ali/.local/lib/python3.10/site-packages/xgboost/lib/libxgboost.so(+0xd940b6) [0x7fb01a1940b6]\n\n",
     "output_type": "error",
     "traceback": [
      "\u001b[0;31m---------------------------------------------------------------------------\u001b[0m",
      "\u001b[0;31mXGBoostError\u001b[0m                              Traceback (most recent call last)",
      "Cell \u001b[0;32mIn[5], line 9\u001b[0m\n\u001b[1;32m      1\u001b[0m X_train, X_test, y_train, y_test \u001b[38;5;241m=\u001b[39m train_test_split(\n\u001b[1;32m      2\u001b[0m     df\u001b[38;5;241m.\u001b[39mdrop([\u001b[38;5;124m'\u001b[39m\u001b[38;5;124mkoi_disposition\u001b[39m\u001b[38;5;124m'\u001b[39m, \u001b[38;5;124m'\u001b[39m\u001b[38;5;124mkoi_disposition_encoded\u001b[39m\u001b[38;5;124m'\u001b[39m], axis\u001b[38;5;241m=\u001b[39m\u001b[38;5;241m1\u001b[39m), \n\u001b[1;32m      3\u001b[0m     df[\u001b[38;5;124m'\u001b[39m\u001b[38;5;124mkoi_disposition_encoded\u001b[39m\u001b[38;5;124m'\u001b[39m], \n\u001b[1;32m      4\u001b[0m     test_size\u001b[38;5;241m=\u001b[39m\u001b[38;5;241m0.2\u001b[39m, \n\u001b[1;32m      5\u001b[0m     random_state\u001b[38;5;241m=\u001b[39m\u001b[38;5;241m42\u001b[39m\n\u001b[1;32m      6\u001b[0m )\n\u001b[1;32m      7\u001b[0m clf \u001b[38;5;241m=\u001b[39m xgb\u001b[38;5;241m.\u001b[39mXGBClassifier(tree_method\u001b[38;5;241m=\u001b[39m\u001b[38;5;124m\"\u001b[39m\u001b[38;5;124mhist\u001b[39m\u001b[38;5;124m\"\u001b[39m, early_stopping_rounds\u001b[38;5;241m=\u001b[39m\u001b[38;5;241m2\u001b[39m)\n\u001b[0;32m----> 9\u001b[0m \u001b[43mclf\u001b[49m\u001b[38;5;241;43m.\u001b[39;49m\u001b[43mfit\u001b[49m\u001b[43m(\u001b[49m\n\u001b[1;32m     10\u001b[0m \u001b[43m    \u001b[49m\u001b[43mX_train\u001b[49m\u001b[43m,\u001b[49m\n\u001b[1;32m     11\u001b[0m \u001b[43m    \u001b[49m\u001b[43my_train\u001b[49m\u001b[43m,\u001b[49m\n\u001b[1;32m     12\u001b[0m \u001b[43m    \u001b[49m\u001b[43meval_set\u001b[49m\u001b[38;5;241;43m=\u001b[39;49m\u001b[43m[\u001b[49m\u001b[43m(\u001b[49m\u001b[43mX_test\u001b[49m\u001b[43m,\u001b[49m\u001b[43m \u001b[49m\u001b[43my_test\u001b[49m\u001b[43m)\u001b[49m\u001b[43m]\u001b[49m\n\u001b[1;32m     13\u001b[0m \u001b[43m)\u001b[49m\n",
      "File \u001b[0;32m~/.local/lib/python3.10/site-packages/xgboost/core.py:729\u001b[0m, in \u001b[0;36mrequire_keyword_args.<locals>.throw_if.<locals>.inner_f\u001b[0;34m(*args, **kwargs)\u001b[0m\n\u001b[1;32m    727\u001b[0m \u001b[38;5;28;01mfor\u001b[39;00m k, arg \u001b[38;5;129;01min\u001b[39;00m \u001b[38;5;28mzip\u001b[39m(sig\u001b[38;5;241m.\u001b[39mparameters, args):\n\u001b[1;32m    728\u001b[0m     kwargs[k] \u001b[38;5;241m=\u001b[39m arg\n\u001b[0;32m--> 729\u001b[0m \u001b[38;5;28;01mreturn\u001b[39;00m \u001b[43mfunc\u001b[49m\u001b[43m(\u001b[49m\u001b[38;5;241;43m*\u001b[39;49m\u001b[38;5;241;43m*\u001b[39;49m\u001b[43mkwargs\u001b[49m\u001b[43m)\u001b[49m\n",
      "File \u001b[0;32m~/.local/lib/python3.10/site-packages/xgboost/sklearn.py:1683\u001b[0m, in \u001b[0;36mXGBClassifier.fit\u001b[0;34m(self, X, y, sample_weight, base_margin, eval_set, verbose, xgb_model, sample_weight_eval_set, base_margin_eval_set, feature_weights)\u001b[0m\n\u001b[1;32m   1661\u001b[0m model, metric, params, feature_weights \u001b[38;5;241m=\u001b[39m \u001b[38;5;28mself\u001b[39m\u001b[38;5;241m.\u001b[39m_configure_fit(\n\u001b[1;32m   1662\u001b[0m     xgb_model, params, feature_weights\n\u001b[1;32m   1663\u001b[0m )\n\u001b[1;32m   1664\u001b[0m train_dmatrix, evals \u001b[38;5;241m=\u001b[39m _wrap_evaluation_matrices(\n\u001b[1;32m   1665\u001b[0m     missing\u001b[38;5;241m=\u001b[39m\u001b[38;5;28mself\u001b[39m\u001b[38;5;241m.\u001b[39mmissing,\n\u001b[1;32m   1666\u001b[0m     X\u001b[38;5;241m=\u001b[39mX,\n\u001b[0;32m   (...)\u001b[0m\n\u001b[1;32m   1680\u001b[0m     feature_types\u001b[38;5;241m=\u001b[39m\u001b[38;5;28mself\u001b[39m\u001b[38;5;241m.\u001b[39mfeature_types,\n\u001b[1;32m   1681\u001b[0m )\n\u001b[0;32m-> 1683\u001b[0m \u001b[38;5;28mself\u001b[39m\u001b[38;5;241m.\u001b[39m_Booster \u001b[38;5;241m=\u001b[39m \u001b[43mtrain\u001b[49m\u001b[43m(\u001b[49m\n\u001b[1;32m   1684\u001b[0m \u001b[43m    \u001b[49m\u001b[43mparams\u001b[49m\u001b[43m,\u001b[49m\n\u001b[1;32m   1685\u001b[0m \u001b[43m    \u001b[49m\u001b[43mtrain_dmatrix\u001b[49m\u001b[43m,\u001b[49m\n\u001b[1;32m   1686\u001b[0m \u001b[43m    \u001b[49m\u001b[38;5;28;43mself\u001b[39;49m\u001b[38;5;241;43m.\u001b[39;49m\u001b[43mget_num_boosting_rounds\u001b[49m\u001b[43m(\u001b[49m\u001b[43m)\u001b[49m\u001b[43m,\u001b[49m\n\u001b[1;32m   1687\u001b[0m \u001b[43m    \u001b[49m\u001b[43mevals\u001b[49m\u001b[38;5;241;43m=\u001b[39;49m\u001b[43mevals\u001b[49m\u001b[43m,\u001b[49m\n\u001b[1;32m   1688\u001b[0m \u001b[43m    \u001b[49m\u001b[43mearly_stopping_rounds\u001b[49m\u001b[38;5;241;43m=\u001b[39;49m\u001b[38;5;28;43mself\u001b[39;49m\u001b[38;5;241;43m.\u001b[39;49m\u001b[43mearly_stopping_rounds\u001b[49m\u001b[43m,\u001b[49m\n\u001b[1;32m   1689\u001b[0m \u001b[43m    \u001b[49m\u001b[43mevals_result\u001b[49m\u001b[38;5;241;43m=\u001b[39;49m\u001b[43mevals_result\u001b[49m\u001b[43m,\u001b[49m\n\u001b[1;32m   1690\u001b[0m \u001b[43m    \u001b[49m\u001b[43mobj\u001b[49m\u001b[38;5;241;43m=\u001b[39;49m\u001b[43mobj\u001b[49m\u001b[43m,\u001b[49m\n\u001b[1;32m   1691\u001b[0m \u001b[43m    \u001b[49m\u001b[43mcustom_metric\u001b[49m\u001b[38;5;241;43m=\u001b[39;49m\u001b[43mmetric\u001b[49m\u001b[43m,\u001b[49m\n\u001b[1;32m   1692\u001b[0m \u001b[43m    \u001b[49m\u001b[43mverbose_eval\u001b[49m\u001b[38;5;241;43m=\u001b[39;49m\u001b[43mverbose\u001b[49m\u001b[43m,\u001b[49m\n\u001b[1;32m   1693\u001b[0m \u001b[43m    \u001b[49m\u001b[43mxgb_model\u001b[49m\u001b[38;5;241;43m=\u001b[39;49m\u001b[43mmodel\u001b[49m\u001b[43m,\u001b[49m\n\u001b[1;32m   1694\u001b[0m \u001b[43m    \u001b[49m\u001b[43mcallbacks\u001b[49m\u001b[38;5;241;43m=\u001b[39;49m\u001b[38;5;28;43mself\u001b[39;49m\u001b[38;5;241;43m.\u001b[39;49m\u001b[43mcallbacks\u001b[49m\u001b[43m,\u001b[49m\n\u001b[1;32m   1695\u001b[0m \u001b[43m\u001b[49m\u001b[43m)\u001b[49m\n\u001b[1;32m   1697\u001b[0m \u001b[38;5;28;01mif\u001b[39;00m \u001b[38;5;129;01mnot\u001b[39;00m \u001b[38;5;28mcallable\u001b[39m(\u001b[38;5;28mself\u001b[39m\u001b[38;5;241m.\u001b[39mobjective):\n\u001b[1;32m   1698\u001b[0m     \u001b[38;5;28mself\u001b[39m\u001b[38;5;241m.\u001b[39mobjective \u001b[38;5;241m=\u001b[39m params[\u001b[38;5;124m\"\u001b[39m\u001b[38;5;124mobjective\u001b[39m\u001b[38;5;124m\"\u001b[39m]\n",
      "File \u001b[0;32m~/.local/lib/python3.10/site-packages/xgboost/core.py:729\u001b[0m, in \u001b[0;36mrequire_keyword_args.<locals>.throw_if.<locals>.inner_f\u001b[0;34m(*args, **kwargs)\u001b[0m\n\u001b[1;32m    727\u001b[0m \u001b[38;5;28;01mfor\u001b[39;00m k, arg \u001b[38;5;129;01min\u001b[39;00m \u001b[38;5;28mzip\u001b[39m(sig\u001b[38;5;241m.\u001b[39mparameters, args):\n\u001b[1;32m    728\u001b[0m     kwargs[k] \u001b[38;5;241m=\u001b[39m arg\n\u001b[0;32m--> 729\u001b[0m \u001b[38;5;28;01mreturn\u001b[39;00m \u001b[43mfunc\u001b[49m\u001b[43m(\u001b[49m\u001b[38;5;241;43m*\u001b[39;49m\u001b[38;5;241;43m*\u001b[39;49m\u001b[43mkwargs\u001b[49m\u001b[43m)\u001b[49m\n",
      "File \u001b[0;32m~/.local/lib/python3.10/site-packages/xgboost/training.py:184\u001b[0m, in \u001b[0;36mtrain\u001b[0;34m(params, dtrain, num_boost_round, evals, obj, maximize, early_stopping_rounds, evals_result, verbose_eval, xgb_model, callbacks, custom_metric)\u001b[0m\n\u001b[1;32m    182\u001b[0m         \u001b[38;5;28;01mbreak\u001b[39;00m\n\u001b[1;32m    183\u001b[0m     bst\u001b[38;5;241m.\u001b[39mupdate(dtrain, iteration\u001b[38;5;241m=\u001b[39mi, fobj\u001b[38;5;241m=\u001b[39mobj)\n\u001b[0;32m--> 184\u001b[0m     \u001b[38;5;28;01mif\u001b[39;00m \u001b[43mcb_container\u001b[49m\u001b[38;5;241;43m.\u001b[39;49m\u001b[43mafter_iteration\u001b[49m\u001b[43m(\u001b[49m\u001b[43mbst\u001b[49m\u001b[43m,\u001b[49m\u001b[43m \u001b[49m\u001b[43mi\u001b[49m\u001b[43m,\u001b[49m\u001b[43m \u001b[49m\u001b[43mdtrain\u001b[49m\u001b[43m,\u001b[49m\u001b[43m \u001b[49m\u001b[43mevals\u001b[49m\u001b[43m)\u001b[49m:\n\u001b[1;32m    185\u001b[0m         \u001b[38;5;28;01mbreak\u001b[39;00m\n\u001b[1;32m    187\u001b[0m bst \u001b[38;5;241m=\u001b[39m cb_container\u001b[38;5;241m.\u001b[39mafter_training(bst)\n",
      "File \u001b[0;32m~/.local/lib/python3.10/site-packages/xgboost/callback.py:264\u001b[0m, in \u001b[0;36mCallbackContainer.after_iteration\u001b[0;34m(self, model, epoch, dtrain, evals)\u001b[0m\n\u001b[1;32m    262\u001b[0m \u001b[38;5;28;01mfor\u001b[39;00m _, name \u001b[38;5;129;01min\u001b[39;00m evals:\n\u001b[1;32m    263\u001b[0m     \u001b[38;5;28;01massert\u001b[39;00m name\u001b[38;5;241m.\u001b[39mfind(\u001b[38;5;124m\"\u001b[39m\u001b[38;5;124m-\u001b[39m\u001b[38;5;124m\"\u001b[39m) \u001b[38;5;241m==\u001b[39m \u001b[38;5;241m-\u001b[39m\u001b[38;5;241m1\u001b[39m, \u001b[38;5;124m\"\u001b[39m\u001b[38;5;124mDataset name should not contain `-`\u001b[39m\u001b[38;5;124m\"\u001b[39m\n\u001b[0;32m--> 264\u001b[0m score: \u001b[38;5;28mstr\u001b[39m \u001b[38;5;241m=\u001b[39m \u001b[43mmodel\u001b[49m\u001b[38;5;241;43m.\u001b[39;49m\u001b[43meval_set\u001b[49m\u001b[43m(\u001b[49m\u001b[43mevals\u001b[49m\u001b[43m,\u001b[49m\u001b[43m \u001b[49m\u001b[43mepoch\u001b[49m\u001b[43m,\u001b[49m\u001b[43m \u001b[49m\u001b[38;5;28;43mself\u001b[39;49m\u001b[38;5;241;43m.\u001b[39;49m\u001b[43mmetric\u001b[49m\u001b[43m,\u001b[49m\u001b[43m \u001b[49m\u001b[38;5;28;43mself\u001b[39;49m\u001b[38;5;241;43m.\u001b[39;49m\u001b[43m_output_margin\u001b[49m\u001b[43m)\u001b[49m\n\u001b[1;32m    265\u001b[0m metric_score \u001b[38;5;241m=\u001b[39m _parse_eval_str(score)\n\u001b[1;32m    266\u001b[0m \u001b[38;5;28mself\u001b[39m\u001b[38;5;241m.\u001b[39m_update_history(metric_score, epoch)\n",
      "File \u001b[0;32m~/.local/lib/python3.10/site-packages/xgboost/core.py:2352\u001b[0m, in \u001b[0;36mBooster.eval_set\u001b[0;34m(self, evals, iteration, feval, output_margin)\u001b[0m\n\u001b[1;32m   2350\u001b[0m evnames \u001b[38;5;241m=\u001b[39m c_array(ctypes\u001b[38;5;241m.\u001b[39mc_char_p, [c_str(d[\u001b[38;5;241m1\u001b[39m]) \u001b[38;5;28;01mfor\u001b[39;00m d \u001b[38;5;129;01min\u001b[39;00m evals])\n\u001b[1;32m   2351\u001b[0m msg \u001b[38;5;241m=\u001b[39m ctypes\u001b[38;5;241m.\u001b[39mc_char_p()\n\u001b[0;32m-> 2352\u001b[0m \u001b[43m_check_call\u001b[49m\u001b[43m(\u001b[49m\n\u001b[1;32m   2353\u001b[0m \u001b[43m    \u001b[49m\u001b[43m_LIB\u001b[49m\u001b[38;5;241;43m.\u001b[39;49m\u001b[43mXGBoosterEvalOneIter\u001b[49m\u001b[43m(\u001b[49m\n\u001b[1;32m   2354\u001b[0m \u001b[43m        \u001b[49m\u001b[38;5;28;43mself\u001b[39;49m\u001b[38;5;241;43m.\u001b[39;49m\u001b[43mhandle\u001b[49m\u001b[43m,\u001b[49m\n\u001b[1;32m   2355\u001b[0m \u001b[43m        \u001b[49m\u001b[43mctypes\u001b[49m\u001b[38;5;241;43m.\u001b[39;49m\u001b[43mc_int\u001b[49m\u001b[43m(\u001b[49m\u001b[43miteration\u001b[49m\u001b[43m)\u001b[49m\u001b[43m,\u001b[49m\n\u001b[1;32m   2356\u001b[0m \u001b[43m        \u001b[49m\u001b[43mdmats\u001b[49m\u001b[43m,\u001b[49m\n\u001b[1;32m   2357\u001b[0m \u001b[43m        \u001b[49m\u001b[43mevnames\u001b[49m\u001b[43m,\u001b[49m\n\u001b[1;32m   2358\u001b[0m \u001b[43m        \u001b[49m\u001b[43mc_bst_ulong\u001b[49m\u001b[43m(\u001b[49m\u001b[38;5;28;43mlen\u001b[39;49m\u001b[43m(\u001b[49m\u001b[43mevals\u001b[49m\u001b[43m)\u001b[49m\u001b[43m)\u001b[49m\u001b[43m,\u001b[49m\n\u001b[1;32m   2359\u001b[0m \u001b[43m        \u001b[49m\u001b[43mctypes\u001b[49m\u001b[38;5;241;43m.\u001b[39;49m\u001b[43mbyref\u001b[49m\u001b[43m(\u001b[49m\u001b[43mmsg\u001b[49m\u001b[43m)\u001b[49m\u001b[43m,\u001b[49m\n\u001b[1;32m   2360\u001b[0m \u001b[43m    \u001b[49m\u001b[43m)\u001b[49m\n\u001b[1;32m   2361\u001b[0m \u001b[43m\u001b[49m\u001b[43m)\u001b[49m\n\u001b[1;32m   2362\u001b[0m \u001b[38;5;28;01massert\u001b[39;00m msg\u001b[38;5;241m.\u001b[39mvalue \u001b[38;5;129;01mis\u001b[39;00m \u001b[38;5;129;01mnot\u001b[39;00m \u001b[38;5;28;01mNone\u001b[39;00m\n\u001b[1;32m   2363\u001b[0m res \u001b[38;5;241m=\u001b[39m msg\u001b[38;5;241m.\u001b[39mvalue\u001b[38;5;241m.\u001b[39mdecode()  \u001b[38;5;66;03m# pylint: disable=no-member\u001b[39;00m\n",
      "File \u001b[0;32m~/.local/lib/python3.10/site-packages/xgboost/core.py:310\u001b[0m, in \u001b[0;36m_check_call\u001b[0;34m(ret)\u001b[0m\n\u001b[1;32m    299\u001b[0m \u001b[38;5;250m\u001b[39m\u001b[38;5;124;03m\"\"\"Check the return value of C API call\u001b[39;00m\n\u001b[1;32m    300\u001b[0m \n\u001b[1;32m    301\u001b[0m \u001b[38;5;124;03mThis function will raise exception when error occurs.\u001b[39;00m\n\u001b[0;32m   (...)\u001b[0m\n\u001b[1;32m    307\u001b[0m \u001b[38;5;124;03m    return value from API calls\u001b[39;00m\n\u001b[1;32m    308\u001b[0m \u001b[38;5;124;03m\"\"\"\u001b[39;00m\n\u001b[1;32m    309\u001b[0m \u001b[38;5;28;01mif\u001b[39;00m ret \u001b[38;5;241m!=\u001b[39m \u001b[38;5;241m0\u001b[39m:\n\u001b[0;32m--> 310\u001b[0m     \u001b[38;5;28;01mraise\u001b[39;00m XGBoostError(py_str(_LIB\u001b[38;5;241m.\u001b[39mXGBGetLastError()))\n",
      "\u001b[0;31mXGBoostError\u001b[0m: [22:57:09] /workspace/src/common/common.cu:16: /workspace/src/common/cuda_dr_utils.cc: 30: cudaErrorUnknown: unknown error\nStack trace:\n  [bt] (0) /home/ali/.local/lib/python3.10/site-packages/xgboost/lib/libxgboost.so(+0x2a6e7c) [0x7fb0196a6e7c]\n  [bt] (1) /home/ali/.local/lib/python3.10/site-packages/xgboost/lib/libxgboost.so(+0xa5b61e) [0x7fb019e5b61e]\n  [bt] (2) /home/ali/.local/lib/python3.10/site-packages/xgboost/lib/libxgboost.so(+0x38303b) [0x7fb01978303b]\n  [bt] (3) /home/ali/.local/lib/python3.10/site-packages/xgboost/lib/libxgboost.so(+0x3840ac) [0x7fb0197840ac]\n  [bt] (4) /lib/x86_64-linux-gnu/libc.so.6(+0x99ee8) [0x7fb0b8a99ee8]\n  [bt] (5) /home/ali/.local/lib/python3.10/site-packages/xgboost/lib/libxgboost.so(+0x382f68) [0x7fb019782f68]\n  [bt] (6) /home/ali/.local/lib/python3.10/site-packages/xgboost/lib/libxgboost.so(+0xa5cb55) [0x7fb019e5cb55]\n  [bt] (7) /home/ali/.local/lib/python3.10/site-packages/xgboost/lib/libxgboost.so(+0xa5bacd) [0x7fb019e5bacd]\n  [bt] (8) /home/ali/.local/lib/python3.10/site-packages/xgboost/lib/libxgboost.so(+0xd940b6) [0x7fb01a1940b6]\n\n"
     ]
    }
   ],
   "source": [
    "X_train, X_test, y_train, y_test = train_test_split(\n",
    "    df.drop(['koi_disposition', 'koi_disposition_encoded'], axis=1), \n",
    "    df['koi_disposition_encoded'], \n",
    "    test_size=0.2, \n",
    "    random_state=42\n",
    ")\n",
    "clf = xgb.XGBClassifier(tree_method=\"hist\", early_stopping_rounds=2,device='cpu')\n",
    "\n",
    "clf.fit(\n",
    "    X_train,\n",
    "    y_train,\n",
    "    eval_set=[(X_test, y_test)]\n",
    ")"
   ]
  },
  {
   "cell_type": "code",
   "execution_count": 4,
   "id": "6027dcb4",
   "metadata": {},
   "outputs": [
    {
     "ename": "NameError",
     "evalue": "name 'clf' is not defined",
     "output_type": "error",
     "traceback": [
      "\u001b[0;31m---------------------------------------------------------------------------\u001b[0m",
      "\u001b[0;31mNameError\u001b[0m                                 Traceback (most recent call last)",
      "Cell \u001b[0;32mIn[4], line 1\u001b[0m\n\u001b[0;32m----> 1\u001b[0m y_pred \u001b[38;5;241m=\u001b[39m \u001b[43mclf\u001b[49m\u001b[38;5;241m.\u001b[39mpredict(X_test)\n\u001b[1;32m      2\u001b[0m accuracy \u001b[38;5;241m=\u001b[39m accuracy_score(y_test, y_pred)\n\u001b[1;32m      3\u001b[0m \u001b[38;5;28mprint\u001b[39m(\u001b[38;5;124mf\u001b[39m\u001b[38;5;124m\"\u001b[39m\u001b[38;5;124mAccuracy: \u001b[39m\u001b[38;5;132;01m{\u001b[39;00maccuracy\u001b[38;5;132;01m:\u001b[39;00m\u001b[38;5;124m.4f\u001b[39m\u001b[38;5;132;01m}\u001b[39;00m\u001b[38;5;124m\"\u001b[39m)\n",
      "\u001b[0;31mNameError\u001b[0m: name 'clf' is not defined"
     ]
    }
   ],
   "source": [
    "y_pred = clf.predict(X_test)\n",
    "accuracy = accuracy_score(y_test, y_pred)\n",
    "print(f\"Accuracy: {accuracy:.4f}\")\n",
    "\n",
    "print(\"\\nClassification Report:\")\n",
    "print(classification_report(y_test, y_pred))\n",
    "\n",
    "print(\"\\nConfusion Matrix:\")\n",
    "print(confusion_matrix(y_test, y_pred))\n",
    "\n",
    "# Convert numeric predictions back to original labels for better interpretability\n",
    "y_pred_labels = label_encoder.inverse_transform(y_pred.astype(int))\n",
    "y_test_labels = label_encoder.inverse_transform(y_test.astype(int))\n"
   ]
  },
  {
   "cell_type": "code",
   "execution_count": null,
   "id": "0d8989dc",
   "metadata": {},
   "outputs": [],
   "source": []
  }
 ],
 "metadata": {
  "kernelspec": {
   "display_name": "Python 3",
   "language": "python",
   "name": "python3"
  },
  "language_info": {
   "codemirror_mode": {
    "name": "ipython",
    "version": 3
   },
   "file_extension": ".py",
   "mimetype": "text/x-python",
   "name": "python",
   "nbconvert_exporter": "python",
   "pygments_lexer": "ipython3",
   "version": "3.10.12"
  }
 },
 "nbformat": 4,
 "nbformat_minor": 5
}
