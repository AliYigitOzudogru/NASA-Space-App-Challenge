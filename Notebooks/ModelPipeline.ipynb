{
 "cells": [
  {
   "cell_type": "code",
   "id": "initial_id",
   "metadata": {
    "collapsed": true,
    "ExecuteTime": {
     "end_time": "2025-10-04T18:42:43.792298Z",
     "start_time": "2025-10-04T18:42:43.774526Z"
    }
   },
   "source": [
    "import numpy as np\n",
    "import pandas as pd\n",
    "from numpy.ma.extras import apply_along_axis\n",
    "\n",
    "from sklearn.ensemble import RandomForestClassifier\n",
    "from sklearn.model_selection import train_test_split\n",
    "from sklearn.impute import SimpleImputer\n",
    "from sklearn.preprocessing import OneHotEncoder, StandardScaler\n",
    "from sklearn.compose import ColumnTransformer\n",
    "from sklearn.base import BaseEstimator, TransformerMixin\n",
    "from sklearn.pipeline import Pipeline\n",
    "\n",
    "import joblib"
   ],
   "outputs": [],
   "execution_count": 14
  },
  {
   "metadata": {
    "ExecuteTime": {
     "end_time": "2025-10-04T18:42:44.090271Z",
     "start_time": "2025-10-04T18:42:44.084556Z"
    }
   },
   "cell_type": "code",
   "source": [
    "class DropColumns(BaseEstimator, TransformerMixin):\n",
    "    def __init__(self, cols_to_drop):\n",
    "        self.cols_to_drop = cols_to_drop\n",
    "\n",
    "    def fit(self, X):\n",
    "        return X.drop(columns=self.cols_to_drop, errors='ignore')\n",
    "\n",
    "    def transform(self, X):\n",
    "        return X.drop(columns=self.cols_to_drop, errors='ignore')\n"
   ],
   "id": "1fa7ea8220f1a988",
   "outputs": [],
   "execution_count": 15
  },
  {
   "metadata": {
    "ExecuteTime": {
     "end_time": "2025-10-04T18:42:38.891115Z",
     "start_time": "2025-10-04T18:42:38.883477Z"
    }
   },
   "cell_type": "code",
   "source": [
    "cols_to_drop = ['kepid', 'kepoi_name', 'kepler_name', 'koi_vet_stat', 'koi_vet_date', 'koi_disp_prov', 'koi_comment',\n",
    "                'koi_period_err1', 'koi_period_err2', 'koi_time0bk_err1', 'koi_time0bk_err2', 'koi_time0_err1',\n",
    "                'koi_time0_err2', 'koi_eccen', 'koi_eccen_err1', 'koi_eccen_err2', 'koi_longp', 'koi_longp_err1',\n",
    "                'koi_longp_err2', 'koi_ingress', 'koi_ingress_err1', 'koi_ingress_err2', 'koi_incl_err1',\n",
    "                'koi_incl_err2', 'koi_teq_err1', 'koi_teq_err2', 'koi_limbdark_mod', 'koi_parm_prov',\n",
    "                'koi_tce_plnt_num', 'koi_tce_delivname', 'koi_quarters', 'koi_trans_mod', 'koi_model_dof',\n",
    "                'koi_model_chisq', 'koi_smet', 'koi_sage', 'koi_sparprov', 'koi_kepmag', 'koi_gmag', 'koi_rmag',\n",
    "                'koi_imag', 'koi_zmag', 'koi_jmag', 'koi_hmag', 'koi_kmag', 'koi_datalink_dvs', 'koi_datalink_dvr',\n",
    "                'koi_sage_err1', 'koi_sage_err2', 'koi_sma_err1', 'koi_sma_err2', 'koi_pdisposition']\n",
    "\n",
    "categorical_features = ['koi_fittype']\n",
    "numerical_features = ['rowid', 'koi_score', 'koi_fpflag_nt', 'koi_fpflag_ss', 'koi_fpflag_co', 'koi_fpflag_ec',\n",
    "                  'koi_period', 'koi_time0bk', 'koi_time0', 'koi_impact', 'koi_impact_err1', 'koi_impact_err2',\n",
    "                  'koi_duration', 'koi_duration_err1', 'koi_duration_err2', 'koi_depth', 'koi_depth_err1',\n",
    "                  'koi_depth_err2', 'koi_ror', 'koi_ror_err1', 'koi_ror_err2', 'koi_srho', 'koi_srho_err1',\n",
    "                  'koi_srho_err2', 'koi_prad', 'koi_prad_err1', 'koi_prad_err2', 'koi_sma', 'koi_incl', 'koi_teq',\n",
    "                  'koi_insol', 'koi_insol_err1', 'koi_insol_err2', 'koi_dor', 'koi_dor_err1', 'koi_dor_err2',\n",
    "                  'koi_ldm_coeff4', 'koi_ldm_coeff3', 'koi_ldm_coeff2', 'koi_ldm_coeff1', 'koi_max_sngle_ev',\n",
    "                  'koi_max_mult_ev', 'koi_model_snr', 'koi_count', 'koi_num_transits', 'koi_bin_oedp_sig', 'koi_steff',\n",
    "                  'koi_steff_err1', 'koi_steff_err2', 'koi_slogg', 'koi_slogg_err1', 'koi_slogg_err2', 'koi_smet_err1',\n",
    "                  'koi_smet_err2', 'koi_srad', 'koi_srad_err1', 'koi_srad_err2', 'koi_smass', 'koi_smass_err1',\n",
    "                  'koi_smass_err2', 'ra', 'dec', 'koi_fwm_stat_sig', 'koi_fwm_sra', 'koi_fwm_sra_err', 'koi_fwm_sdec',\n",
    "                  'koi_fwm_sdec_err', 'koi_fwm_srao', 'koi_fwm_srao_err', 'koi_fwm_sdeco', 'koi_fwm_sdeco_err',\n",
    "                  'koi_fwm_prao', 'koi_fwm_prao_err', 'koi_fwm_pdeco', 'koi_fwm_pdeco_err', 'koi_dicco_mra',\n",
    "                  'koi_dicco_mra_err', 'koi_dicco_mdec', 'koi_dicco_mdec_err', 'koi_dicco_msky', 'koi_dicco_msky_err',\n",
    "                  'koi_dikco_mra', 'koi_dikco_mra_err', 'koi_dikco_mdec', 'koi_dikco_mdec_err', 'koi_dikco_msky',\n",
    "                  'koi_dikco_msky_err']"
   ],
   "id": "259479602019851f",
   "outputs": [],
   "execution_count": 12
  },
  {
   "metadata": {
    "ExecuteTime": {
     "end_time": "2025-10-04T18:25:58.498551Z",
     "start_time": "2025-10-04T18:25:58.284607Z"
    }
   },
   "cell_type": "code",
   "source": [
    "def create_pipeline(model):\n",
    "    numerical_preprocessor = Pipeline([\n",
    "        ('imputer', SimpleImputer(strategy='mean')),\n",
    "        ('scaler', StandardScaler())\n",
    "    ])\n",
    "\n",
    "    categorical_preprocessor = Pipeline([\n",
    "        ('imputer', SimpleImputer(strategy='most_frequent')),\n",
    "        ('encoder', OneHotEncoder(handle_unknown='ignore'))\n",
    "    ])\n",
    "    pipeline = Pipeline([\n",
    "        ('Dropper' , DropColumns(cols_to_drop)),\n",
    "        ('Numeric Preprocessor', numerical_preprocessor, numerical_features),\n",
    "        ('Categorical Preprocessor', categorical_preprocessor, categorical_features),\n",
    "        ('model', model),\n",
    "    ])\n",
    "    return pipeline"
   ],
   "id": "8a1cf4fe7806f7ff",
   "outputs": [],
   "execution_count": 9
  }
 ],
 "metadata": {
  "kernelspec": {
   "display_name": "Python 3",
   "language": "python",
   "name": "python3"
  },
  "language_info": {
   "codemirror_mode": {
    "name": "ipython",
    "version": 2
   },
   "file_extension": ".py",
   "mimetype": "text/x-python",
   "name": "python",
   "nbconvert_exporter": "python",
   "pygments_lexer": "ipython2",
   "version": "2.7.6"
  }
 },
 "nbformat": 4,
 "nbformat_minor": 5
}
